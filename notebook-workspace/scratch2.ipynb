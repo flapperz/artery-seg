{
 "cells": [
  {
   "cell_type": "code",
   "execution_count": 3,
   "metadata": {},
   "outputs": [
    {
     "name": "stdout",
     "output_type": "stream",
     "text": [
      "Hello Slicer\n",
      "(275, 512, 512)\n",
      "-3024\n",
      "1960\n",
      "int32\n"
     ]
    }
   ],
   "source": [
    "# Verify\n",
    "print(\"Hello Slicer\")\n",
    "# Setup\n",
    "import numpy as np\n",
    "import JupyterNotebooksLib as slicernb\n",
    "import logging\n",
    "import time\n",
    "import sys\n",
    "import pickle\n",
    "from collections import deque\n",
    "from queue import PriorityQueue\n",
    "\n",
    "from importlib import reload\n",
    "\n",
    "reload(logging)\n",
    "# create logger\n",
    "logger = logging.getLogger('scratch_logger')\n",
    "logger.setLevel(logging.DEBUG)\n",
    "\n",
    "logstream_ch = logging.StreamHandler()\n",
    "logstream_ch.setLevel(logging.INFO)\n",
    "\n",
    "logfile_ch = logging.FileHandler('bfs.log')\n",
    "logfile_ch.setLevel(logging.DEBUG)\n",
    "\n",
    "logger.addHandler(logstream_ch)\n",
    "logger.addHandler(logfile_ch)\n",
    "\n",
    "loadScene(\"data/slicer_gs_clean_update1/2023-10-26-Scene.mrml\")\n",
    "\n",
    "def multi_add_fiducial(fid_node, nodes_ras_Nx3):\n",
    "    for i in range(len(nodes_ras_Nx3)):\n",
    "        fid_node.AddFiducialFromArray(nodes_ras_Nx3[i,:])\n",
    "        \n",
    "def coord2z(i,j,k):\n",
    "    return i * (262144) + j * (512) + k\n",
    "def z2coord(z):\n",
    "    # a[i//(6*7),(i%(6*7)//7),i%(7)]\n",
    "    return z//(512*512), z%(262144)//512, z%512\n",
    "def vtk4x4matrix_to_numpy(matrix):\n",
    "    \"\"\"\n",
    "    Copies the elements of a vtkMatrix4x4 into a numpy array.\n",
    "\n",
    "    :param matrix: The matrix to be copied into an array.\n",
    "    :type matrix: vtk.vtkMatrix4x4\n",
    "    :rtype: numpy.ndarray\n",
    "    \"\"\"\n",
    "    m = np.ones((4, 4))\n",
    "    for i in range(4):\n",
    "        for j in range(4):\n",
    "            m[i, j] = matrix.GetElement(i, j)\n",
    "    return m\n",
    "## Global\n",
    "VOLUME_NODE_NAME = \"14: Body Soft Tissue\"\n",
    "OUT_A_NODE_NAME = \"out_a\"\n",
    "OUT_B_NODE_NAME = \"out_b\"\n",
    "OUT_C_NODE_NAME = \"out_c\"\n",
    "MYNULL = -2_147_483_648\n",
    "\n",
    "volume_node = getNode(VOLUME_NODE_NAME)\n",
    "volume_display = volume_node.GetDisplayNode()\n",
    "volume_display.InterpolateOff()\n",
    "\n",
    "outa_node = getNode(OUT_A_NODE_NAME)\n",
    "outa_node.GetDisplayNode().InterpolateOff()\n",
    "\n",
    "outb_node = getNode(OUT_B_NODE_NAME)\n",
    "outb_node.GetDisplayNode().InterpolateOff()\n",
    "\n",
    "outc_node = getNode(OUT_C_NODE_NAME)\n",
    "outc_node.GetDisplayNode().InterpolateOff()\n",
    "\n",
    "lad_node = getFirstNodeByName(\"LAD\")\n",
    "lcx_node = getFirstNodeByName(\"LCX\")\n",
    "rca_node = getFirstNodeByName(\"RCA\")\n",
    "\n",
    "v_arr = slicer.util.array(VOLUME_NODE_NAME)\n",
    "print(v_arr.shape)\n",
    "print(v_arr.min())\n",
    "print(v_arr.max())\n",
    "print(v_arr.dtype)\n",
    "\n",
    "x = vtk.vtkMatrix4x4()\n",
    "volume_node.GetIJKToRASMatrix(x)\n",
    "ijk2ras_mat = vtk4x4matrix_to_numpy(x)\n",
    "\n",
    "volume_node.GetRASToIJKMatrix(x)\n",
    "ras2ijk_mat = vtk4x4matrix_to_numpy(x)\n",
    "\n",
    "# ras2ijk_mat @ np.array([326,192,160,1]).reshape(-1,1)"
   ]
  },
  {
   "cell_type": "code",
   "execution_count": 6,
   "metadata": {},
   "outputs": [],
   "source": [
    "def kji_list2ras(kji_tuples):\n",
    "    return kji2ras(np.array(kji_tuples).T)\n",
    "\n",
    "def kji2ras(kji_3xN):\n",
    "    return (ijk2ras_mat @ np.pad(kji_3xN[::-1,:], ((0,1), (0,0)), constant_values=1))[:3,:]\n",
    "\n",
    "# x2 = kji_list2ras(full_path[:2])\n",
    "# np.linalg.norm(x2[:,0] - x2[:,1]) * weight_arr[0,0,0]"
   ]
  },
  {
   "cell_type": "code",
   "execution_count": 12,
   "metadata": {},
   "outputs": [],
   "source": [
    "ijk_spacing = volume_node.GetSpacing()"
   ]
  },
  {
   "cell_type": "code",
   "execution_count": 9,
   "metadata": {},
   "outputs": [
    {
     "data": {
      "text/plain": [
       "array([[ 222.9],\n",
       "       [ 200. ],\n",
       "       [-589. ]])"
      ]
     },
     "execution_count": 9,
     "metadata": {},
     "output_type": "execute_result"
    }
   ],
   "source": [
    "origin_vec = kji_list2ras([(0,0,0)])\n",
    "origin_vec"
   ]
  },
  {
   "cell_type": "code",
   "execution_count": 10,
   "metadata": {},
   "outputs": [
    {
     "name": "stdout",
     "output_type": "stream",
     "text": [
      "1.6682934768798923\n",
      "1.4740595518838444\n",
      "1.6682934768798923\n",
      "1.4740595518838444\n",
      "1.25\n",
      "1.4740595518838444\n",
      "1.6682934768798923\n",
      "1.4740595518838444\n",
      "1.6682934768798923\n",
      "1.1048543456039805\n",
      "0.78125\n",
      "1.1048543456039805\n",
      "0.78125\n",
      "0.0\n",
      "0.78125\n",
      "1.1048543456039805\n",
      "0.78125\n",
      "1.1048543456039805\n",
      "1.6682934768798923\n",
      "1.4740595518838444\n",
      "1.6682934768798923\n",
      "1.4740595518838444\n",
      "1.25\n",
      "1.4740595518838444\n",
      "1.6682934768798923\n",
      "1.4740595518838444\n",
      "1.6682934768798923\n"
     ]
    }
   ],
   "source": [
    "origin_vec = kji_list2ras([(0,0,0)])[:,0]\n",
    "for k in range(-1,2):\n",
    "    for j in range(-1,2):\n",
    "        for i in range(-1,2):\n",
    "            vec = kji_list2ras([(k,j,i)])[:,0]\n",
    "            print(np.linalg.norm(origin_vec - vec))"
   ]
  },
  {
   "cell_type": "code",
   "execution_count": 14,
   "metadata": {},
   "outputs": [
    {
     "name": "stdout",
     "output_type": "stream",
     "text": [
      "1.6682934768798923\n",
      "1.4740595518838444\n",
      "1.6682934768798923\n",
      "1.4740595518838444\n",
      "1.25\n",
      "1.4740595518838444\n",
      "1.6682934768798923\n",
      "1.4740595518838444\n",
      "1.6682934768798923\n",
      "1.1048543456039805\n",
      "0.78125\n",
      "1.1048543456039805\n",
      "0.78125\n",
      "0.0\n",
      "0.78125\n",
      "1.1048543456039805\n",
      "0.78125\n",
      "1.1048543456039805\n",
      "1.6682934768798923\n",
      "1.4740595518838444\n",
      "1.6682934768798923\n",
      "1.4740595518838444\n",
      "1.25\n",
      "1.4740595518838444\n",
      "1.6682934768798923\n",
      "1.4740595518838444\n",
      "1.6682934768798923\n"
     ]
    }
   ],
   "source": [
    "origin_vec = kji_list2ras([(0,0,0)])[:,0]\n",
    "for k in range(-1,2):\n",
    "    for j in range(-1,2):\n",
    "        for i in range(-1,2):\n",
    "            print(((i*ijk_spacing[0])**2 + (j*ijk_spacing[1])**2 + (k*ijk_spacing[2])**2)**0.5)"
   ]
  },
  {
   "cell_type": "code",
   "execution_count": null,
   "metadata": {},
   "outputs": [],
   "source": []
  }
 ],
 "metadata": {
  "kernelspec": {
   "display_name": "Slicer 4.11",
   "language": "python",
   "name": "slicer-4.11"
  }
 },
 "nbformat": 4,
 "nbformat_minor": 2
}
